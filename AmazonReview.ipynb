{
 "cells": [
  {
   "cell_type": "code",
   "execution_count": 1,
   "id": "7c671289",
   "metadata": {},
   "outputs": [
    {
     "name": "stderr",
     "output_type": "stream",
     "text": [
      "D:\\Conda\\envs\\nlp_course\\lib\\site-packages\\sklearn\\utils\\validation.py:37: DeprecationWarning: distutils Version classes are deprecated. Use packaging.version instead.\n",
      "  LARGE_SPARSE_SUPPORTED = LooseVersion(scipy_version) >= '0.14.0'\n",
      "D:\\Conda\\envs\\nlp_course\\lib\\site-packages\\sklearn\\feature_extraction\\image.py:167: DeprecationWarning: `np.int` is a deprecated alias for the builtin `int`. To silence this warning, use `int` by itself. Doing this will not modify any behavior and is safe. When replacing `np.int`, you may wish to use e.g. `np.int64` or `np.int32` to specify the precision. If you wish to review your current use, check the release note link for additional information.\n",
      "Deprecated in NumPy 1.20; for more details and guidance: https://numpy.org/devdocs/release/1.20.0-notes.html#deprecations\n",
      "  dtype=np.int):\n",
      "D:\\Conda\\envs\\nlp_course\\lib\\site-packages\\sklearn\\linear_model\\least_angle.py:35: DeprecationWarning: `np.float` is a deprecated alias for the builtin `float`. To silence this warning, use `float` by itself. Doing this will not modify any behavior and is safe. If you specifically wanted the numpy scalar type, use `np.float64` here.\n",
      "Deprecated in NumPy 1.20; for more details and guidance: https://numpy.org/devdocs/release/1.20.0-notes.html#deprecations\n",
      "  eps=np.finfo(np.float).eps,\n",
      "D:\\Conda\\envs\\nlp_course\\lib\\site-packages\\sklearn\\linear_model\\least_angle.py:597: DeprecationWarning: `np.float` is a deprecated alias for the builtin `float`. To silence this warning, use `float` by itself. Doing this will not modify any behavior and is safe. If you specifically wanted the numpy scalar type, use `np.float64` here.\n",
      "Deprecated in NumPy 1.20; for more details and guidance: https://numpy.org/devdocs/release/1.20.0-notes.html#deprecations\n",
      "  eps=np.finfo(np.float).eps, copy_X=True, fit_path=True,\n",
      "D:\\Conda\\envs\\nlp_course\\lib\\site-packages\\sklearn\\linear_model\\least_angle.py:836: DeprecationWarning: `np.float` is a deprecated alias for the builtin `float`. To silence this warning, use `float` by itself. Doing this will not modify any behavior and is safe. If you specifically wanted the numpy scalar type, use `np.float64` here.\n",
      "Deprecated in NumPy 1.20; for more details and guidance: https://numpy.org/devdocs/release/1.20.0-notes.html#deprecations\n",
      "  eps=np.finfo(np.float).eps, copy_X=True, fit_path=True,\n",
      "D:\\Conda\\envs\\nlp_course\\lib\\site-packages\\sklearn\\linear_model\\least_angle.py:862: DeprecationWarning: `np.float` is a deprecated alias for the builtin `float`. To silence this warning, use `float` by itself. Doing this will not modify any behavior and is safe. If you specifically wanted the numpy scalar type, use `np.float64` here.\n",
      "Deprecated in NumPy 1.20; for more details and guidance: https://numpy.org/devdocs/release/1.20.0-notes.html#deprecations\n",
      "  eps=np.finfo(np.float).eps, positive=False):\n",
      "D:\\Conda\\envs\\nlp_course\\lib\\site-packages\\sklearn\\linear_model\\least_angle.py:1097: DeprecationWarning: `np.float` is a deprecated alias for the builtin `float`. To silence this warning, use `float` by itself. Doing this will not modify any behavior and is safe. If you specifically wanted the numpy scalar type, use `np.float64` here.\n",
      "Deprecated in NumPy 1.20; for more details and guidance: https://numpy.org/devdocs/release/1.20.0-notes.html#deprecations\n",
      "  max_n_alphas=1000, n_jobs=None, eps=np.finfo(np.float).eps,\n",
      "D:\\Conda\\envs\\nlp_course\\lib\\site-packages\\sklearn\\linear_model\\least_angle.py:1344: DeprecationWarning: `np.float` is a deprecated alias for the builtin `float`. To silence this warning, use `float` by itself. Doing this will not modify any behavior and is safe. If you specifically wanted the numpy scalar type, use `np.float64` here.\n",
      "Deprecated in NumPy 1.20; for more details and guidance: https://numpy.org/devdocs/release/1.20.0-notes.html#deprecations\n",
      "  max_n_alphas=1000, n_jobs=None, eps=np.finfo(np.float).eps,\n",
      "D:\\Conda\\envs\\nlp_course\\lib\\site-packages\\sklearn\\linear_model\\least_angle.py:1480: DeprecationWarning: `np.float` is a deprecated alias for the builtin `float`. To silence this warning, use `float` by itself. Doing this will not modify any behavior and is safe. If you specifically wanted the numpy scalar type, use `np.float64` here.\n",
      "Deprecated in NumPy 1.20; for more details and guidance: https://numpy.org/devdocs/release/1.20.0-notes.html#deprecations\n",
      "  eps=np.finfo(np.float).eps, copy_X=True, positive=False):\n",
      "D:\\Conda\\envs\\nlp_course\\lib\\site-packages\\sklearn\\linear_model\\randomized_l1.py:152: DeprecationWarning: `np.float` is a deprecated alias for the builtin `float`. To silence this warning, use `float` by itself. Doing this will not modify any behavior and is safe. If you specifically wanted the numpy scalar type, use `np.float64` here.\n",
      "Deprecated in NumPy 1.20; for more details and guidance: https://numpy.org/devdocs/release/1.20.0-notes.html#deprecations\n",
      "  precompute=False, eps=np.finfo(np.float).eps,\n",
      "D:\\Conda\\envs\\nlp_course\\lib\\site-packages\\sklearn\\linear_model\\randomized_l1.py:320: DeprecationWarning: `np.float` is a deprecated alias for the builtin `float`. To silence this warning, use `float` by itself. Doing this will not modify any behavior and is safe. If you specifically wanted the numpy scalar type, use `np.float64` here.\n",
      "Deprecated in NumPy 1.20; for more details and guidance: https://numpy.org/devdocs/release/1.20.0-notes.html#deprecations\n",
      "  eps=np.finfo(np.float).eps, random_state=None,\n",
      "D:\\Conda\\envs\\nlp_course\\lib\\site-packages\\sklearn\\linear_model\\randomized_l1.py:580: DeprecationWarning: `np.float` is a deprecated alias for the builtin `float`. To silence this warning, use `float` by itself. Doing this will not modify any behavior and is safe. If you specifically wanted the numpy scalar type, use `np.float64` here.\n",
      "Deprecated in NumPy 1.20; for more details and guidance: https://numpy.org/devdocs/release/1.20.0-notes.html#deprecations\n",
      "  eps=4 * np.finfo(np.float).eps, n_jobs=None,\n"
     ]
    },
    {
     "name": "stdout",
     "output_type": "stream",
     "text": [
      "[nltk_data] Error loading vader_lexicon: <urlopen error [Errno 11001]\n",
      "[nltk_data]     getaddrinfo failed>\n"
     ]
    },
    {
     "data": {
      "text/plain": [
       "False"
      ]
     },
     "execution_count": 1,
     "metadata": {},
     "output_type": "execute_result"
    }
   ],
   "source": [
    "import nltk \n",
    "nltk.download('vader_lexicon')"
   ]
  },
  {
   "cell_type": "code",
   "execution_count": 2,
   "id": "b9c225de",
   "metadata": {},
   "outputs": [
    {
     "name": "stderr",
     "output_type": "stream",
     "text": [
      "D:\\Conda\\envs\\nlp_course\\lib\\site-packages\\nltk\\twitter\\__init__.py:20: UserWarning: The twython library has not been installed. Some functionality from the twitter package will not be available.\n",
      "  warnings.warn(\"The twython library has not been installed. \"\n"
     ]
    }
   ],
   "source": [
    "from nltk.sentiment.vader import SentimentIntensityAnalyzer\n",
    "sid=SentimentIntensityAnalyzer()"
   ]
  },
  {
   "cell_type": "code",
   "execution_count": 3,
   "id": "41ac64dc",
   "metadata": {},
   "outputs": [],
   "source": [
    "import numpy as np\n",
    "import pandas as pd"
   ]
  },
  {
   "cell_type": "code",
   "execution_count": 6,
   "id": "9612bd51",
   "metadata": {},
   "outputs": [],
   "source": [
    "df_original = pd.read_csv('../amzn_revw_train.csv',header=None, names=(\"polarity\", \"title\", \"text\"))\n",
    "df= df_original.sample(10000)"
   ]
  },
  {
   "cell_type": "code",
   "execution_count": 7,
   "id": "3a29bea6",
   "metadata": {},
   "outputs": [
    {
     "data": {
      "text/html": [
       "<div>\n",
       "<style scoped>\n",
       "    .dataframe tbody tr th:only-of-type {\n",
       "        vertical-align: middle;\n",
       "    }\n",
       "\n",
       "    .dataframe tbody tr th {\n",
       "        vertical-align: top;\n",
       "    }\n",
       "\n",
       "    .dataframe thead th {\n",
       "        text-align: right;\n",
       "    }\n",
       "</style>\n",
       "<table border=\"1\" class=\"dataframe\">\n",
       "  <thead>\n",
       "    <tr style=\"text-align: right;\">\n",
       "      <th></th>\n",
       "      <th>polarity</th>\n",
       "      <th>title</th>\n",
       "      <th>text</th>\n",
       "    </tr>\n",
       "  </thead>\n",
       "  <tbody>\n",
       "    <tr>\n",
       "      <th>354447</th>\n",
       "      <td>1</td>\n",
       "      <td>A Joke That Is Still Going Strong</td>\n",
       "      <td>Lou Reed has gotten so much out of so little i...</td>\n",
       "    </tr>\n",
       "    <tr>\n",
       "      <th>1935220</th>\n",
       "      <td>2</td>\n",
       "      <td>Good from Start to Finish</td>\n",
       "      <td>If you are a fan of good music that puts a smi...</td>\n",
       "    </tr>\n",
       "    <tr>\n",
       "      <th>1349597</th>\n",
       "      <td>2</td>\n",
       "      <td>Outstanding book about a neglected war</td>\n",
       "      <td>This is a rare book that has the details of pe...</td>\n",
       "    </tr>\n",
       "    <tr>\n",
       "      <th>305264</th>\n",
       "      <td>2</td>\n",
       "      <td>Great detail and convenience. I love it!</td>\n",
       "      <td>I bought this printer to use with a Nikon Cool...</td>\n",
       "    </tr>\n",
       "    <tr>\n",
       "      <th>2862300</th>\n",
       "      <td>1</td>\n",
       "      <td>HOW SAD</td>\n",
       "      <td>that the studio couldn't afford to shoot (or r...</td>\n",
       "    </tr>\n",
       "  </tbody>\n",
       "</table>\n",
       "</div>"
      ],
      "text/plain": [
       "         polarity                                     title  \\\n",
       "354447          1         A Joke That Is Still Going Strong   \n",
       "1935220         2                 Good from Start to Finish   \n",
       "1349597         2    Outstanding book about a neglected war   \n",
       "305264          2  Great detail and convenience. I love it!   \n",
       "2862300         1                                   HOW SAD   \n",
       "\n",
       "                                                      text  \n",
       "354447   Lou Reed has gotten so much out of so little i...  \n",
       "1935220  If you are a fan of good music that puts a smi...  \n",
       "1349597  This is a rare book that has the details of pe...  \n",
       "305264   I bought this printer to use with a Nikon Cool...  \n",
       "2862300  that the studio couldn't afford to shoot (or r...  "
      ]
     },
     "execution_count": 7,
     "metadata": {},
     "output_type": "execute_result"
    }
   ],
   "source": [
    "df.head()"
   ]
  },
  {
   "cell_type": "code",
   "execution_count": 8,
   "id": "3524ed7c",
   "metadata": {},
   "outputs": [
    {
     "data": {
      "text/plain": [
       "2    5019\n",
       "1    4981\n",
       "Name: polarity, dtype: int64"
      ]
     },
     "execution_count": 8,
     "metadata": {},
     "output_type": "execute_result"
    }
   ],
   "source": [
    "df['polarity'].value_counts()"
   ]
  },
  {
   "cell_type": "code",
   "execution_count": 10,
   "id": "a15e39c8",
   "metadata": {},
   "outputs": [
    {
     "data": {
      "text/plain": [
       "{'neg': 0.013, 'neu': 0.837, 'pos': 0.15, 'compound': 0.9776}"
      ]
     },
     "execution_count": 10,
     "metadata": {},
     "output_type": "execute_result"
    }
   ],
   "source": [
    "sid.polarity_scores(df.loc[305264]['text'])"
   ]
  },
  {
   "cell_type": "code",
   "execution_count": 11,
   "id": "c58b748a",
   "metadata": {},
   "outputs": [
    {
     "data": {
      "text/html": [
       "<div>\n",
       "<style scoped>\n",
       "    .dataframe tbody tr th:only-of-type {\n",
       "        vertical-align: middle;\n",
       "    }\n",
       "\n",
       "    .dataframe tbody tr th {\n",
       "        vertical-align: top;\n",
       "    }\n",
       "\n",
       "    .dataframe thead th {\n",
       "        text-align: right;\n",
       "    }\n",
       "</style>\n",
       "<table border=\"1\" class=\"dataframe\">\n",
       "  <thead>\n",
       "    <tr style=\"text-align: right;\">\n",
       "      <th></th>\n",
       "      <th>polarity</th>\n",
       "      <th>title</th>\n",
       "      <th>text</th>\n",
       "      <th>scores</th>\n",
       "    </tr>\n",
       "  </thead>\n",
       "  <tbody>\n",
       "    <tr>\n",
       "      <th>354447</th>\n",
       "      <td>1</td>\n",
       "      <td>A Joke That Is Still Going Strong</td>\n",
       "      <td>Lou Reed has gotten so much out of so little i...</td>\n",
       "      <td>{'neg': 0.106, 'neu': 0.755, 'pos': 0.138, 'co...</td>\n",
       "    </tr>\n",
       "    <tr>\n",
       "      <th>1935220</th>\n",
       "      <td>2</td>\n",
       "      <td>Good from Start to Finish</td>\n",
       "      <td>If you are a fan of good music that puts a smi...</td>\n",
       "      <td>{'neg': 0.026, 'neu': 0.722, 'pos': 0.252, 'co...</td>\n",
       "    </tr>\n",
       "    <tr>\n",
       "      <th>1349597</th>\n",
       "      <td>2</td>\n",
       "      <td>Outstanding book about a neglected war</td>\n",
       "      <td>This is a rare book that has the details of pe...</td>\n",
       "      <td>{'neg': 0.082, 'neu': 0.716, 'pos': 0.202, 'co...</td>\n",
       "    </tr>\n",
       "    <tr>\n",
       "      <th>305264</th>\n",
       "      <td>2</td>\n",
       "      <td>Great detail and convenience. I love it!</td>\n",
       "      <td>I bought this printer to use with a Nikon Cool...</td>\n",
       "      <td>{'neg': 0.013, 'neu': 0.837, 'pos': 0.15, 'com...</td>\n",
       "    </tr>\n",
       "    <tr>\n",
       "      <th>2862300</th>\n",
       "      <td>1</td>\n",
       "      <td>HOW SAD</td>\n",
       "      <td>that the studio couldn't afford to shoot (or r...</td>\n",
       "      <td>{'neg': 0.0, 'neu': 0.683, 'pos': 0.317, 'comp...</td>\n",
       "    </tr>\n",
       "  </tbody>\n",
       "</table>\n",
       "</div>"
      ],
      "text/plain": [
       "         polarity                                     title  \\\n",
       "354447          1         A Joke That Is Still Going Strong   \n",
       "1935220         2                 Good from Start to Finish   \n",
       "1349597         2    Outstanding book about a neglected war   \n",
       "305264          2  Great detail and convenience. I love it!   \n",
       "2862300         1                                   HOW SAD   \n",
       "\n",
       "                                                      text  \\\n",
       "354447   Lou Reed has gotten so much out of so little i...   \n",
       "1935220  If you are a fan of good music that puts a smi...   \n",
       "1349597  This is a rare book that has the details of pe...   \n",
       "305264   I bought this printer to use with a Nikon Cool...   \n",
       "2862300  that the studio couldn't afford to shoot (or r...   \n",
       "\n",
       "                                                    scores  \n",
       "354447   {'neg': 0.106, 'neu': 0.755, 'pos': 0.138, 'co...  \n",
       "1935220  {'neg': 0.026, 'neu': 0.722, 'pos': 0.252, 'co...  \n",
       "1349597  {'neg': 0.082, 'neu': 0.716, 'pos': 0.202, 'co...  \n",
       "305264   {'neg': 0.013, 'neu': 0.837, 'pos': 0.15, 'com...  \n",
       "2862300  {'neg': 0.0, 'neu': 0.683, 'pos': 0.317, 'comp...  "
      ]
     },
     "execution_count": 11,
     "metadata": {},
     "output_type": "execute_result"
    }
   ],
   "source": [
    "df['scores']=df['text'].apply(lambda text: sid.polarity_scores(text))\n",
    "df.head()"
   ]
  },
  {
   "cell_type": "code",
   "execution_count": 12,
   "id": "bd3d5100",
   "metadata": {},
   "outputs": [
    {
     "data": {
      "text/html": [
       "<div>\n",
       "<style scoped>\n",
       "    .dataframe tbody tr th:only-of-type {\n",
       "        vertical-align: middle;\n",
       "    }\n",
       "\n",
       "    .dataframe tbody tr th {\n",
       "        vertical-align: top;\n",
       "    }\n",
       "\n",
       "    .dataframe thead th {\n",
       "        text-align: right;\n",
       "    }\n",
       "</style>\n",
       "<table border=\"1\" class=\"dataframe\">\n",
       "  <thead>\n",
       "    <tr style=\"text-align: right;\">\n",
       "      <th></th>\n",
       "      <th>polarity</th>\n",
       "      <th>title</th>\n",
       "      <th>text</th>\n",
       "      <th>scores</th>\n",
       "      <th>compound</th>\n",
       "    </tr>\n",
       "  </thead>\n",
       "  <tbody>\n",
       "    <tr>\n",
       "      <th>354447</th>\n",
       "      <td>1</td>\n",
       "      <td>A Joke That Is Still Going Strong</td>\n",
       "      <td>Lou Reed has gotten so much out of so little i...</td>\n",
       "      <td>{'neg': 0.106, 'neu': 0.755, 'pos': 0.138, 'co...</td>\n",
       "      <td>0.6997</td>\n",
       "    </tr>\n",
       "    <tr>\n",
       "      <th>1935220</th>\n",
       "      <td>2</td>\n",
       "      <td>Good from Start to Finish</td>\n",
       "      <td>If you are a fan of good music that puts a smi...</td>\n",
       "      <td>{'neg': 0.026, 'neu': 0.722, 'pos': 0.252, 'co...</td>\n",
       "      <td>0.9922</td>\n",
       "    </tr>\n",
       "    <tr>\n",
       "      <th>1349597</th>\n",
       "      <td>2</td>\n",
       "      <td>Outstanding book about a neglected war</td>\n",
       "      <td>This is a rare book that has the details of pe...</td>\n",
       "      <td>{'neg': 0.082, 'neu': 0.716, 'pos': 0.202, 'co...</td>\n",
       "      <td>0.9652</td>\n",
       "    </tr>\n",
       "    <tr>\n",
       "      <th>305264</th>\n",
       "      <td>2</td>\n",
       "      <td>Great detail and convenience. I love it!</td>\n",
       "      <td>I bought this printer to use with a Nikon Cool...</td>\n",
       "      <td>{'neg': 0.013, 'neu': 0.837, 'pos': 0.15, 'com...</td>\n",
       "      <td>0.9776</td>\n",
       "    </tr>\n",
       "    <tr>\n",
       "      <th>2862300</th>\n",
       "      <td>1</td>\n",
       "      <td>HOW SAD</td>\n",
       "      <td>that the studio couldn't afford to shoot (or r...</td>\n",
       "      <td>{'neg': 0.0, 'neu': 0.683, 'pos': 0.317, 'comp...</td>\n",
       "      <td>0.8332</td>\n",
       "    </tr>\n",
       "  </tbody>\n",
       "</table>\n",
       "</div>"
      ],
      "text/plain": [
       "         polarity                                     title  \\\n",
       "354447          1         A Joke That Is Still Going Strong   \n",
       "1935220         2                 Good from Start to Finish   \n",
       "1349597         2    Outstanding book about a neglected war   \n",
       "305264          2  Great detail and convenience. I love it!   \n",
       "2862300         1                                   HOW SAD   \n",
       "\n",
       "                                                      text  \\\n",
       "354447   Lou Reed has gotten so much out of so little i...   \n",
       "1935220  If you are a fan of good music that puts a smi...   \n",
       "1349597  This is a rare book that has the details of pe...   \n",
       "305264   I bought this printer to use with a Nikon Cool...   \n",
       "2862300  that the studio couldn't afford to shoot (or r...   \n",
       "\n",
       "                                                    scores  compound  \n",
       "354447   {'neg': 0.106, 'neu': 0.755, 'pos': 0.138, 'co...    0.6997  \n",
       "1935220  {'neg': 0.026, 'neu': 0.722, 'pos': 0.252, 'co...    0.9922  \n",
       "1349597  {'neg': 0.082, 'neu': 0.716, 'pos': 0.202, 'co...    0.9652  \n",
       "305264   {'neg': 0.013, 'neu': 0.837, 'pos': 0.15, 'com...    0.9776  \n",
       "2862300  {'neg': 0.0, 'neu': 0.683, 'pos': 0.317, 'comp...    0.8332  "
      ]
     },
     "execution_count": 12,
     "metadata": {},
     "output_type": "execute_result"
    }
   ],
   "source": [
    "df['compound']  = df['scores'].apply(lambda score_dict: score_dict['compound'])\n",
    "\n",
    "df.head()"
   ]
  },
  {
   "cell_type": "code",
   "execution_count": 13,
   "id": "53eaeef0",
   "metadata": {},
   "outputs": [
    {
     "data": {
      "text/html": [
       "<div>\n",
       "<style scoped>\n",
       "    .dataframe tbody tr th:only-of-type {\n",
       "        vertical-align: middle;\n",
       "    }\n",
       "\n",
       "    .dataframe tbody tr th {\n",
       "        vertical-align: top;\n",
       "    }\n",
       "\n",
       "    .dataframe thead th {\n",
       "        text-align: right;\n",
       "    }\n",
       "</style>\n",
       "<table border=\"1\" class=\"dataframe\">\n",
       "  <thead>\n",
       "    <tr style=\"text-align: right;\">\n",
       "      <th></th>\n",
       "      <th>polarity</th>\n",
       "      <th>title</th>\n",
       "      <th>text</th>\n",
       "      <th>scores</th>\n",
       "      <th>compound</th>\n",
       "      <th>comp_score</th>\n",
       "    </tr>\n",
       "  </thead>\n",
       "  <tbody>\n",
       "    <tr>\n",
       "      <th>354447</th>\n",
       "      <td>1</td>\n",
       "      <td>A Joke That Is Still Going Strong</td>\n",
       "      <td>Lou Reed has gotten so much out of so little i...</td>\n",
       "      <td>{'neg': 0.106, 'neu': 0.755, 'pos': 0.138, 'co...</td>\n",
       "      <td>0.6997</td>\n",
       "      <td>pos</td>\n",
       "    </tr>\n",
       "    <tr>\n",
       "      <th>1935220</th>\n",
       "      <td>2</td>\n",
       "      <td>Good from Start to Finish</td>\n",
       "      <td>If you are a fan of good music that puts a smi...</td>\n",
       "      <td>{'neg': 0.026, 'neu': 0.722, 'pos': 0.252, 'co...</td>\n",
       "      <td>0.9922</td>\n",
       "      <td>pos</td>\n",
       "    </tr>\n",
       "    <tr>\n",
       "      <th>1349597</th>\n",
       "      <td>2</td>\n",
       "      <td>Outstanding book about a neglected war</td>\n",
       "      <td>This is a rare book that has the details of pe...</td>\n",
       "      <td>{'neg': 0.082, 'neu': 0.716, 'pos': 0.202, 'co...</td>\n",
       "      <td>0.9652</td>\n",
       "      <td>pos</td>\n",
       "    </tr>\n",
       "    <tr>\n",
       "      <th>305264</th>\n",
       "      <td>2</td>\n",
       "      <td>Great detail and convenience. I love it!</td>\n",
       "      <td>I bought this printer to use with a Nikon Cool...</td>\n",
       "      <td>{'neg': 0.013, 'neu': 0.837, 'pos': 0.15, 'com...</td>\n",
       "      <td>0.9776</td>\n",
       "      <td>pos</td>\n",
       "    </tr>\n",
       "    <tr>\n",
       "      <th>2862300</th>\n",
       "      <td>1</td>\n",
       "      <td>HOW SAD</td>\n",
       "      <td>that the studio couldn't afford to shoot (or r...</td>\n",
       "      <td>{'neg': 0.0, 'neu': 0.683, 'pos': 0.317, 'comp...</td>\n",
       "      <td>0.8332</td>\n",
       "      <td>pos</td>\n",
       "    </tr>\n",
       "  </tbody>\n",
       "</table>\n",
       "</div>"
      ],
      "text/plain": [
       "         polarity                                     title  \\\n",
       "354447          1         A Joke That Is Still Going Strong   \n",
       "1935220         2                 Good from Start to Finish   \n",
       "1349597         2    Outstanding book about a neglected war   \n",
       "305264          2  Great detail and convenience. I love it!   \n",
       "2862300         1                                   HOW SAD   \n",
       "\n",
       "                                                      text  \\\n",
       "354447   Lou Reed has gotten so much out of so little i...   \n",
       "1935220  If you are a fan of good music that puts a smi...   \n",
       "1349597  This is a rare book that has the details of pe...   \n",
       "305264   I bought this printer to use with a Nikon Cool...   \n",
       "2862300  that the studio couldn't afford to shoot (or r...   \n",
       "\n",
       "                                                    scores  compound  \\\n",
       "354447   {'neg': 0.106, 'neu': 0.755, 'pos': 0.138, 'co...    0.6997   \n",
       "1935220  {'neg': 0.026, 'neu': 0.722, 'pos': 0.252, 'co...    0.9922   \n",
       "1349597  {'neg': 0.082, 'neu': 0.716, 'pos': 0.202, 'co...    0.9652   \n",
       "305264   {'neg': 0.013, 'neu': 0.837, 'pos': 0.15, 'com...    0.9776   \n",
       "2862300  {'neg': 0.0, 'neu': 0.683, 'pos': 0.317, 'comp...    0.8332   \n",
       "\n",
       "        comp_score  \n",
       "354447         pos  \n",
       "1935220        pos  \n",
       "1349597        pos  \n",
       "305264         pos  \n",
       "2862300        pos  "
      ]
     },
     "execution_count": 13,
     "metadata": {},
     "output_type": "execute_result"
    }
   ],
   "source": [
    "df['comp_score'] = df['compound'].apply(lambda c: 'pos' if c >=0 else 'neg')\n",
    "\n",
    "df.head()"
   ]
  },
  {
   "cell_type": "code",
   "execution_count": null,
   "id": "b4ac1f0e",
   "metadata": {},
   "outputs": [],
   "source": []
  }
 ],
 "metadata": {
  "kernelspec": {
   "display_name": "Python 3 (ipykernel)",
   "language": "python",
   "name": "python3"
  },
  "language_info": {
   "codemirror_mode": {
    "name": "ipython",
    "version": 3
   },
   "file_extension": ".py",
   "mimetype": "text/x-python",
   "name": "python",
   "nbconvert_exporter": "python",
   "pygments_lexer": "ipython3",
   "version": "3.7.16"
  }
 },
 "nbformat": 4,
 "nbformat_minor": 5
}
